{
 "cells": [
  {
   "cell_type": "markdown",
   "id": "c7fed2f5-d16f-4627-9ad5-7b3ceb66a98f",
   "metadata": {
    "tags": []
   },
   "source": [
    "# Calculando média, desvio padrão e speedup"
   ]
  },
  {
   "cell_type": "code",
   "execution_count": 1,
   "id": "d3cc8c1d-691c-4acd-994b-01c4a662f1a6",
   "metadata": {},
   "outputs": [],
   "source": [
    "import pandas as pd\n",
    "import numpy as np\n",
    "from time_operations import convert_time_to_more_readable"
   ]
  },
  {
   "cell_type": "code",
   "execution_count": 2,
   "id": "2e1c8b08-2327-4bf4-8bc2-e17acfeedc40",
   "metadata": {},
   "outputs": [],
   "source": [
    "simlutations_path = \"./outputs/time_result/\""
   ]
  },
  {
   "cell_type": "markdown",
   "id": "f77ce93a-99e8-415a-bac3-511601385f0d",
   "metadata": {
    "jp-MarkdownHeadingCollapsed": true,
    "tags": []
   },
   "source": [
    "#### Calculando média"
   ]
  },
  {
   "cell_type": "markdown",
   "id": "f85c19cf-b897-45ce-985d-044903b92bdc",
   "metadata": {
    "tags": []
   },
   "source": [
    "##### funções"
   ]
  },
  {
   "cell_type": "code",
   "execution_count": 3,
   "id": "2d88b656-0614-4626-8d61-e12e1478fe47",
   "metadata": {},
   "outputs": [],
   "source": [
    "def calcula_media():\n",
    "    simulation = simlutations_path + folder + simulation_name\n",
    "    tempos = pd.read_csv(simulation)\n",
    "    print(f\"Tempos da simulação {simulation}\")\n",
    "    print(tempos)\n",
    "    \n",
    "    return tempos[\"tempo\"].mean()\n",
    "\n",
    "def calcula_media_ate_1_minuto ():\n",
    "    return print(f\"A média de tempo é: {calcula_media()}\")\n",
    "\n",
    "def calcula_media_com_mais_de_1_minuto ():\n",
    "    resultado_media = calcula_media()\n",
    "    print(\"A média de tempo é:\", end=\" \")\n",
    "    convert_time_to_more_readable(resultado_media)"
   ]
  },
  {
   "cell_type": "markdown",
   "id": "93297001-f88f-410e-8330-1f9cd470b3c0",
   "metadata": {
    "jp-MarkdownHeadingCollapsed": true,
    "tags": []
   },
   "source": [
    "#### Calculando desvio padrão\n",
    "\n",
    "- Quanto **maior**, mais dispersos são os dados. Os dados não são regulares\n",
    "- Quanto **menor**, menos dispersos são os dados. Os dados são regulares\n",
    "\n",
    "*Usando o std(ddof=0) que utiliza o valor de N invez de N-1, sendo N a quantidade total de valores! "
   ]
  },
  {
   "cell_type": "markdown",
   "id": "9592cde4-2bac-48ca-aa09-3d86652f42bd",
   "metadata": {
    "tags": []
   },
   "source": [
    "##### funções"
   ]
  },
  {
   "cell_type": "code",
   "execution_count": 4,
   "id": "36355ba4-df82-467f-b41d-d0e411b55e2e",
   "metadata": {},
   "outputs": [],
   "source": [
    "def calcula_desvio_padrao():\n",
    "    simulation = simlutations_path + folder + simulation_name\n",
    "    tempos = pd.read_csv(simulation)\n",
    "    print(f\"Tempos da simulação {simulation}\")\n",
    "    print(tempos)\n",
    "    \n",
    "    resultdo_dp = tempos[\"tempo\"].std(ddof=0)\n",
    "    \n",
    "    return f\"O desvio padrão de tempo é: {resultdo_dp}\" "
   ]
  },
  {
   "cell_type": "markdown",
   "id": "b12203b2-b7bf-4982-bd74-f65829128431",
   "metadata": {
    "jp-MarkdownHeadingCollapsed": true,
    "tags": []
   },
   "source": [
    "### Calculando as métricas sob o código serial"
   ]
  },
  {
   "cell_type": "markdown",
   "id": "65d2d51f-52e0-4193-a075-d01ddcd4f6c2",
   "metadata": {
    "tags": []
   },
   "source": [
    "#### Montando o nome da simulação serial"
   ]
  },
  {
   "cell_type": "code",
   "execution_count": 61,
   "id": "27200632-4119-4938-b540-5274c8e21b07",
   "metadata": {},
   "outputs": [],
   "source": [
    "OP_folder = \"OP/\"\n",
    "GB_folder = \"GB/\"\n",
    "BB_folder = \"BB/\"\n",
    "FW_folder = \"FW_v1/\""
   ]
  },
  {
   "cell_type": "code",
   "execution_count": 132,
   "id": "e5f1e0ce-690c-472e-8a8b-bf154b93eb66",
   "metadata": {},
   "outputs": [],
   "source": [
    "# onda plana\n",
    "OP_1_particle = \"plane_wave_with_1_particle\"\n",
    "OP_3_particle = \"plane_wave_with_3_particles\"\n",
    "\n",
    "# feixe gaussiano\n",
    "GB_graph = \"1\"  # os valores possiveis [1,2,3]\n",
    "GB_beam = \"graussian_beam_G\"+GB_graph+\"_GB\"\n",
    "GB_OP_beam = \"graussian_beam_G\"+GB_graph+\"_GBxOP\"\n",
    "\n",
    "# feixe de bessel\n",
    "BB_graph = \"1\"  # os valores possiveis [1,2]\n",
    "BB_beam = \"bessel_beam_G1_BB\"\n",
    "BB_OP_beam = \"bessel_beam_G\"+BB_graph+\"_BBxOP\"\n",
    "\n",
    "# feixe da frozen wave\n",
    "FW_graph = \"2\"  # os valores possiveis [1,2]\n",
    "FW_beam = \"frozen_wave_G\"+FW_graph+\"_FW\""
   ]
  },
  {
   "cell_type": "code",
   "execution_count": 88,
   "id": "54c0d4e4-c211-41ad-aeea-6e9b2609bcec",
   "metadata": {},
   "outputs": [],
   "source": [
    "def name_serial():\n",
    "    return \"j1_\"+ beam + \"_and_10_times_\" + n_values + \"_values_v_1_serial.csv\""
   ]
  },
  {
   "cell_type": "markdown",
   "id": "5bfe940f-7c71-4a54-b339-d34f7a40e262",
   "metadata": {
    "jp-MarkdownHeadingCollapsed": true,
    "tags": []
   },
   "source": [
    "#### Calculando a media para as simulações referentes a **Onda Plana**"
   ]
  },
  {
   "cell_type": "code",
   "execution_count": 112,
   "id": "824d11b8-de01-431d-92ac-321d459eaee9",
   "metadata": {},
   "outputs": [
    {
     "name": "stdout",
     "output_type": "stream",
     "text": [
      "Tempos da simulação ./outputs/time_result/OP/j1_plane_wave_with_3_particles_and_10_times_300_values_v_1_serial.csv\n",
      "   execucao     tempo\n",
      "0         1  4.254740\n",
      "1         2  4.163110\n",
      "2         3  4.160015\n",
      "3         4  4.169348\n",
      "4         5  4.241826\n",
      "5         6  4.682705\n",
      "6         7  4.201986\n",
      "7         8  4.194337\n",
      "8         9  4.172069\n",
      "9        10  4.157639\n",
      "A média de tempo é: 4.239777440705803\n",
      "Tempos da simulação ./outputs/time_result/OP/j1_plane_wave_with_3_particles_and_10_times_300_values_v_1_serial.csv\n",
      "   execucao     tempo\n",
      "0         1  4.254740\n",
      "1         2  4.163110\n",
      "2         3  4.160015\n",
      "3         4  4.169348\n",
      "4         5  4.241826\n",
      "5         6  4.682705\n",
      "6         7  4.201986\n",
      "7         8  4.194337\n",
      "8         9  4.172069\n",
      "9        10  4.157639\n"
     ]
    },
    {
     "data": {
      "text/plain": [
       "'O desvio padrão de tempo é: 0.15114132410317915'"
      ]
     },
     "execution_count": 112,
     "metadata": {},
     "output_type": "execute_result"
    }
   ],
   "source": [
    "folder = OP_folder\n",
    "beam = OP_3_particle\n",
    "n_values = \"300\"\n",
    "n_version = \"v_1_serial\"\n",
    "simulation_name = name_serial()\n",
    "\n",
    "calcula_media_ate_1_minuto()\n",
    "calcula_desvio_padrao()"
   ]
  },
  {
   "cell_type": "markdown",
   "id": "bd4461e6-fe0e-4d40-8fb8-191ef3134020",
   "metadata": {
    "jp-MarkdownHeadingCollapsed": true,
    "tags": []
   },
   "source": [
    "#### Calculando a media para as simulações referentes a **Feixe Gaussiano**"
   ]
  },
  {
   "cell_type": "code",
   "execution_count": 122,
   "id": "37e38bd8",
   "metadata": {},
   "outputs": [
    {
     "name": "stdout",
     "output_type": "stream",
     "text": [
      "Tempos da simulação ./outputs/time_result/GB/j1_graussian_beam_G1_GB_and_10_times_300_values_v_1_serial.csv\n",
      "   execucao     tempo\n",
      "0         1  6.095188\n",
      "1         2  5.930259\n",
      "2         3  5.929939\n",
      "3         4  5.939902\n",
      "4         5  5.877019\n",
      "5         6  6.090518\n",
      "6         7  5.922473\n",
      "7         8  5.907735\n",
      "8         9  5.861242\n",
      "9        10  5.950731\n",
      "A média de tempo é: 5.95050070809666\n",
      "Tempos da simulação ./outputs/time_result/GB/j1_graussian_beam_G1_GB_and_10_times_300_values_v_1_serial.csv\n",
      "   execucao     tempo\n",
      "0         1  6.095188\n",
      "1         2  5.930259\n",
      "2         3  5.929939\n",
      "3         4  5.939902\n",
      "4         5  5.877019\n",
      "5         6  6.090518\n",
      "6         7  5.922473\n",
      "7         8  5.907735\n",
      "8         9  5.861242\n",
      "9        10  5.950731\n"
     ]
    },
    {
     "data": {
      "text/plain": [
       "'O desvio padrão de tempo é: 0.07580583111155303'"
      ]
     },
     "execution_count": 122,
     "metadata": {},
     "output_type": "execute_result"
    }
   ],
   "source": [
    "folder = GB_folder\n",
    "beam = GB_beam\n",
    "n_values = \"300\"\n",
    "n_version = \"v_1_serial\"\n",
    "simulation_name = name_serial()\n",
    "\n",
    "calcula_media_ate_1_minuto()\n",
    "calcula_desvio_padrao()"
   ]
  },
  {
   "cell_type": "markdown",
   "id": "2c1fd882-3491-4961-bb48-edaa022e2070",
   "metadata": {
    "jp-MarkdownHeadingCollapsed": true,
    "tags": []
   },
   "source": [
    "#### Calculando a media para as simulações referentes a **Feixe de Bessel**"
   ]
  },
  {
   "cell_type": "code",
   "execution_count": 128,
   "id": "9e4e3db4-7cc3-4d27-aa92-54d8d06d1786",
   "metadata": {},
   "outputs": [
    {
     "name": "stdout",
     "output_type": "stream",
     "text": [
      "Tempos da simulação ./outputs/time_result/BB/j1_bessel_beam_G1_BB_and_10_times_300_values_v_1_serial.csv\n",
      "   execucao     tempo\n",
      "0         1  4.860932\n",
      "1         2  4.878792\n",
      "2         3  4.899928\n",
      "3         4  4.836568\n",
      "4         5  4.823434\n",
      "5         6  4.873283\n",
      "6         7  4.859045\n",
      "7         8  4.824179\n",
      "8         9  4.875998\n",
      "9        10  4.836021\n",
      "A média de tempo é: 4.856818017701153\n",
      "Tempos da simulação ./outputs/time_result/BB/j1_bessel_beam_G1_BB_and_10_times_300_values_v_1_serial.csv\n",
      "   execucao     tempo\n",
      "0         1  4.860932\n",
      "1         2  4.878792\n",
      "2         3  4.899928\n",
      "3         4  4.836568\n",
      "4         5  4.823434\n",
      "5         6  4.873283\n",
      "6         7  4.859045\n",
      "7         8  4.824179\n",
      "8         9  4.875998\n",
      "9        10  4.836021\n"
     ]
    },
    {
     "data": {
      "text/plain": [
       "'O desvio padrão de tempo é: 0.024545004428064936'"
      ]
     },
     "execution_count": 128,
     "metadata": {},
     "output_type": "execute_result"
    }
   ],
   "source": [
    "folder = BB_folder\n",
    "beam = BB_beam\n",
    "n_values = \"300\"\n",
    "n_version = \"v_1_serial\"\n",
    "simulation_name = name_serial()\n",
    "\n",
    "calcula_media_ate_1_minuto()\n",
    "calcula_desvio_padrao()"
   ]
  },
  {
   "cell_type": "markdown",
   "id": "1a4c8d89-674b-41c2-9503-4bcebfb2cfce",
   "metadata": {
    "jp-MarkdownHeadingCollapsed": true,
    "tags": []
   },
   "source": [
    "#### Calculando a media para as simulações referentes a **Feixe Frozen Wave**"
   ]
  },
  {
   "cell_type": "code",
   "execution_count": 134,
   "id": "2d231ed3-a78c-4d60-94ef-be2de70d9242",
   "metadata": {},
   "outputs": [
    {
     "name": "stdout",
     "output_type": "stream",
     "text": [
      "Tempos da simulação ./outputs/time_result/FW_v1/j1_frozen_wave_G2_FW_and_10_times_100_values_v_1_serial.csv\n",
      "   execucao        tempo\n",
      "0         1  8711.271825\n",
      "1         2  8723.543889\n",
      "2         3  8699.930061\n",
      "3         4  8708.173101\n",
      "4         5  8680.555502\n",
      "5         6  8724.691765\n",
      "6         7  8694.079691\n",
      "7         8  8700.182073\n",
      "8         9  8692.992133\n",
      "9        10  8700.452257\n",
      "A média de tempo é: \u001b[7m 2h:25m:3s \u001b[0m\n",
      "Tempos da simulação ./outputs/time_result/FW_v1/j1_frozen_wave_G2_FW_and_10_times_100_values_v_1_serial.csv\n",
      "   execucao        tempo\n",
      "0         1  8711.271825\n",
      "1         2  8723.543889\n",
      "2         3  8699.930061\n",
      "3         4  8708.173101\n",
      "4         5  8680.555502\n",
      "5         6  8724.691765\n",
      "6         7  8694.079691\n",
      "7         8  8700.182073\n",
      "8         9  8692.992133\n",
      "9        10  8700.452257\n"
     ]
    },
    {
     "data": {
      "text/plain": [
       "'O desvio padrão de tempo é: 13.006385941517104'"
      ]
     },
     "execution_count": 134,
     "metadata": {},
     "output_type": "execute_result"
    }
   ],
   "source": [
    "folder = FW_folder\n",
    "beam = FW_beam\n",
    "n_values = \"100\"\n",
    "n_version = \"v_1_serial\"\n",
    "simulation_name = name_serial()\n",
    "\n",
    "calcula_media_com_mais_de_1_minuto()\n",
    "calcula_desvio_padrao()"
   ]
  },
  {
   "cell_type": "markdown",
   "id": "15c727b8-2cac-464e-9cf0-29d94f4bb3ea",
   "metadata": {
    "jp-MarkdownHeadingCollapsed": true,
    "tags": []
   },
   "source": [
    "#### Método dos calculos feito fora da função"
   ]
  },
  {
   "cell_type": "code",
   "execution_count": 19,
   "id": "cf1387b3-28c4-4bab-9989-47788c6ef008",
   "metadata": {},
   "outputs": [
    {
     "name": "stdout",
     "output_type": "stream",
     "text": [
      "Tempos da simulação ./outputs/time_result/OP/j1_plane_wave_with_3_particles_and_10_times_300_values_v_1_serial.csv\n"
     ]
    }
   ],
   "source": [
    "tempos = pd.read_csv(simulation)\n",
    "print(f\"Tempos da simulação {simulation}\")"
   ]
  },
  {
   "cell_type": "code",
   "execution_count": 20,
   "id": "ad91b879-a794-4b67-908e-744ba315688c",
   "metadata": {},
   "outputs": [
    {
     "data": {
      "text/html": [
       "<div>\n",
       "<style scoped>\n",
       "    .dataframe tbody tr th:only-of-type {\n",
       "        vertical-align: middle;\n",
       "    }\n",
       "\n",
       "    .dataframe tbody tr th {\n",
       "        vertical-align: top;\n",
       "    }\n",
       "\n",
       "    .dataframe thead th {\n",
       "        text-align: right;\n",
       "    }\n",
       "</style>\n",
       "<table border=\"1\" class=\"dataframe\">\n",
       "  <thead>\n",
       "    <tr style=\"text-align: right;\">\n",
       "      <th></th>\n",
       "      <th>execucao</th>\n",
       "      <th>tempo</th>\n",
       "    </tr>\n",
       "  </thead>\n",
       "  <tbody>\n",
       "    <tr>\n",
       "      <th>0</th>\n",
       "      <td>1</td>\n",
       "      <td>4.254740</td>\n",
       "    </tr>\n",
       "    <tr>\n",
       "      <th>1</th>\n",
       "      <td>2</td>\n",
       "      <td>4.163110</td>\n",
       "    </tr>\n",
       "    <tr>\n",
       "      <th>2</th>\n",
       "      <td>3</td>\n",
       "      <td>4.160015</td>\n",
       "    </tr>\n",
       "    <tr>\n",
       "      <th>3</th>\n",
       "      <td>4</td>\n",
       "      <td>4.169348</td>\n",
       "    </tr>\n",
       "    <tr>\n",
       "      <th>4</th>\n",
       "      <td>5</td>\n",
       "      <td>4.241826</td>\n",
       "    </tr>\n",
       "    <tr>\n",
       "      <th>5</th>\n",
       "      <td>6</td>\n",
       "      <td>4.682705</td>\n",
       "    </tr>\n",
       "    <tr>\n",
       "      <th>6</th>\n",
       "      <td>7</td>\n",
       "      <td>4.201986</td>\n",
       "    </tr>\n",
       "    <tr>\n",
       "      <th>7</th>\n",
       "      <td>8</td>\n",
       "      <td>4.194337</td>\n",
       "    </tr>\n",
       "    <tr>\n",
       "      <th>8</th>\n",
       "      <td>9</td>\n",
       "      <td>4.172069</td>\n",
       "    </tr>\n",
       "    <tr>\n",
       "      <th>9</th>\n",
       "      <td>10</td>\n",
       "      <td>4.157639</td>\n",
       "    </tr>\n",
       "  </tbody>\n",
       "</table>\n",
       "</div>"
      ],
      "text/plain": [
       "   execucao     tempo\n",
       "0         1  4.254740\n",
       "1         2  4.163110\n",
       "2         3  4.160015\n",
       "3         4  4.169348\n",
       "4         5  4.241826\n",
       "5         6  4.682705\n",
       "6         7  4.201986\n",
       "7         8  4.194337\n",
       "8         9  4.172069\n",
       "9        10  4.157639"
      ]
     },
     "execution_count": 20,
     "metadata": {},
     "output_type": "execute_result"
    }
   ],
   "source": [
    "tempos"
   ]
  },
  {
   "cell_type": "code",
   "execution_count": 21,
   "id": "eb496bb7-217d-4a52-8974-50a29fe14e78",
   "metadata": {},
   "outputs": [
    {
     "data": {
      "text/plain": [
       "4.239777440705803"
      ]
     },
     "execution_count": 21,
     "metadata": {},
     "output_type": "execute_result"
    }
   ],
   "source": [
    "media(\"tempo\")"
   ]
  },
  {
   "cell_type": "markdown",
   "id": "e1815606-08bc-43f5-ae41-45b10db0b133",
   "metadata": {},
   "source": [
    "### Calculando as métricas sob o código com as estratégias de paralelismo"
   ]
  },
  {
   "cell_type": "markdown",
   "id": "f126a91a-be0c-460c-a9ba-72ea12a70201",
   "metadata": {},
   "source": [
    "#### Montando o nome da simulação com paralelismo"
   ]
  },
  {
   "cell_type": "code",
   "execution_count": 5,
   "id": "05cdf202-101d-4a47-929a-a7fa31f0f9fd",
   "metadata": {},
   "outputs": [],
   "source": [
    "E1_folder = \"FW_v2/\"\n",
    "E2_folder = \"FW_v3/\"\n",
    "E3_folder = \"FW_v4/\""
   ]
  },
  {
   "cell_type": "code",
   "execution_count": 6,
   "id": "340e553b-1ec9-4bd0-a0c5-20825d7c059b",
   "metadata": {},
   "outputs": [],
   "source": [
    "def name_parallel():\n",
    "    return \"j1_frozen_wave_G2_FW_and_10_times_50_values_v_\"+ version + \"_with_\" + n_process + \"_process.csv\""
   ]
  },
  {
   "cell_type": "markdown",
   "id": "d88e25a4-859b-4c82-a91d-21c3027afe61",
   "metadata": {
    "jp-MarkdownHeadingCollapsed": true,
    "tags": []
   },
   "source": [
    "#### Calculando a media para as simulações referentes a **Estratégia 1** ou versão 2 ou \"A **função de gerar o gráfico** de uma simulação terá o paralelismo da função de J1\""
   ]
  },
  {
   "cell_type": "code",
   "execution_count": 142,
   "id": "c3c2529f-34ba-4cfc-b006-6f745a3aebee",
   "metadata": {},
   "outputs": [
    {
     "name": "stdout",
     "output_type": "stream",
     "text": [
      "Tempos da simulação ./outputs/time_result/FW_v2/j1_frozen_wave_G2_FW_and_10_times_50_values_v_2_with_4_process.csv\n",
      "   execucao        tempo\n",
      "0         1  2298.981944\n",
      "1         2  2289.715885\n",
      "2         3  2284.494714\n",
      "3         4  2306.042598\n",
      "4         5  2286.529137\n",
      "5         6  2304.699912\n",
      "6         7  2321.963780\n",
      "7         8  2313.751344\n",
      "8         9  2332.917298\n",
      "9        10  2298.528130\n",
      "A média de tempo é: \u001b[7m 0h:38m:23s \u001b[0m\n",
      "Tempos da simulação ./outputs/time_result/FW_v2/j1_frozen_wave_G2_FW_and_10_times_50_values_v_2_with_4_process.csv\n",
      "   execucao        tempo\n",
      "0         1  2298.981944\n",
      "1         2  2289.715885\n",
      "2         3  2284.494714\n",
      "3         4  2306.042598\n",
      "4         5  2286.529137\n",
      "5         6  2304.699912\n",
      "6         7  2321.963780\n",
      "7         8  2313.751344\n",
      "8         9  2332.917298\n",
      "9        10  2298.528130\n"
     ]
    },
    {
     "data": {
      "text/plain": [
       "'O desvio padrão de tempo é: 14.842303008543256'"
      ]
     },
     "execution_count": 142,
     "metadata": {},
     "output_type": "execute_result"
    }
   ],
   "source": [
    "folder = E1_folder\n",
    "version = \"2\"\n",
    "n_process = \"4\"\n",
    "\n",
    "simulation_name = name_parallel()\n",
    "\n",
    "calcula_media_com_mais_de_1_minuto()\n",
    "calcula_desvio_padrao()"
   ]
  },
  {
   "cell_type": "markdown",
   "id": "3f679268-dd90-4000-901f-4dd4ead13752",
   "metadata": {
    "jp-MarkdownHeadingCollapsed": true,
    "tags": []
   },
   "source": [
    "#### Calculando a media para as simulações referentes a **Estratégia 2** ou versão 3 ou \"Tem um paralelismo implementado **dentro da função de J1**\""
   ]
  },
  {
   "cell_type": "code",
   "execution_count": 146,
   "id": "cafa379e-590a-4a13-bc39-044e8e8ded96",
   "metadata": {},
   "outputs": [
    {
     "name": "stdout",
     "output_type": "stream",
     "text": [
      "Tempos da simulação ./outputs/time_result/FW_v3/j1_frozen_wave_G2_FW_and_10_times_50_values_v_3_with_4_process.csv\n",
      "   execucao        tempo\n",
      "0         1  2833.348238\n",
      "1         2  2834.459615\n",
      "2         3  2838.188464\n",
      "3         4  2834.020427\n",
      "4         5  2841.174513\n",
      "5         6  2846.258094\n",
      "6         7  2843.116947\n",
      "7         8  2844.317093\n",
      "8         9  2838.088045\n",
      "9        10  2835.305009\n",
      "A média de tempo é: \u001b[7m 0h:47m:18s \u001b[0m\n",
      "Tempos da simulação ./outputs/time_result/FW_v3/j1_frozen_wave_G2_FW_and_10_times_50_values_v_3_with_4_process.csv\n",
      "   execucao        tempo\n",
      "0         1  2833.348238\n",
      "1         2  2834.459615\n",
      "2         3  2838.188464\n",
      "3         4  2834.020427\n",
      "4         5  2841.174513\n",
      "5         6  2846.258094\n",
      "6         7  2843.116947\n",
      "7         8  2844.317093\n",
      "8         9  2838.088045\n",
      "9        10  2835.305009\n"
     ]
    },
    {
     "data": {
      "text/plain": [
       "'O desvio padrão de tempo é: 4.413943571224788'"
      ]
     },
     "execution_count": 146,
     "metadata": {},
     "output_type": "execute_result"
    }
   ],
   "source": [
    "folder = E2_folder\n",
    "version = \"3\"\n",
    "n_process = \"4\"\n",
    "\n",
    "simulation_name = name_parallel()\n",
    "\n",
    "calcula_media_com_mais_de_1_minuto()\n",
    "calcula_desvio_padrao()"
   ]
  },
  {
   "cell_type": "markdown",
   "id": "8d54f43a-397e-4080-be3c-a72f275ba136",
   "metadata": {},
   "source": [
    "#### Calculando a media para as simulações referentes a **Estratégia 3** ou versão 4 ou \"Tem um paralelismo implementado **dentro da função de gn** da frozen wave\""
   ]
  },
  {
   "cell_type": "code",
   "execution_count": 7,
   "id": "07e3289a-7193-4ab2-b6aa-186ef4b9157f",
   "metadata": {},
   "outputs": [
    {
     "name": "stdout",
     "output_type": "stream",
     "text": [
      "Tempos da simulação ./outputs/time_result/FW_v4/j1_frozen_wave_G2_FW_and_10_times_50_values_v_4_with_1_process.csv\n",
      "   execucao        tempo\n",
      "0         1  5501.595169\n",
      "1         2  5505.331894\n",
      "2         3  5501.996714\n",
      "3         4  5507.676258\n",
      "4         5  5503.485147\n",
      "5         6  5499.625675\n",
      "6         7  5498.205519\n",
      "7         8  5497.691095\n",
      "8         9  5503.102258\n",
      "9        10  5502.112014\n",
      "A média de tempo é: \u001b[7m 1h:31m:42s \u001b[0m\n",
      "Tempos da simulação ./outputs/time_result/FW_v4/j1_frozen_wave_G2_FW_and_10_times_50_values_v_4_with_1_process.csv\n",
      "   execucao        tempo\n",
      "0         1  5501.595169\n",
      "1         2  5505.331894\n",
      "2         3  5501.996714\n",
      "3         4  5507.676258\n",
      "4         5  5503.485147\n",
      "5         6  5499.625675\n",
      "6         7  5498.205519\n",
      "7         8  5497.691095\n",
      "8         9  5503.102258\n",
      "9        10  5502.112014\n"
     ]
    },
    {
     "data": {
      "text/plain": [
       "'O desvio padrão de tempo é: 2.923236923469071'"
      ]
     },
     "execution_count": 7,
     "metadata": {},
     "output_type": "execute_result"
    }
   ],
   "source": [
    "folder = E3_folder\n",
    "version = \"4\"\n",
    "n_process = \"1\"\n",
    "\n",
    "simulation_name = name_parallel()\n",
    "\n",
    "calcula_media_com_mais_de_1_minuto()\n",
    "calcula_desvio_padrao()"
   ]
  }
 ],
 "metadata": {
  "kernelspec": {
   "display_name": "Python 3 (ipykernel)",
   "language": "python",
   "name": "python3"
  },
  "language_info": {
   "codemirror_mode": {
    "name": "ipython",
    "version": 3
   },
   "file_extension": ".py",
   "mimetype": "text/x-python",
   "name": "python",
   "nbconvert_exporter": "python",
   "pygments_lexer": "ipython3",
   "version": "3.10.9"
  }
 },
 "nbformat": 4,
 "nbformat_minor": 5
}
